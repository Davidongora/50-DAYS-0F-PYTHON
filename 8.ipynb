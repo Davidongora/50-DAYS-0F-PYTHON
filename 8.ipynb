{
 "cells": [
  {
   "cell_type": "code",
   "execution_count": 13,
   "metadata": {},
   "outputs": [
    {
     "name": "stdout",
     "output_type": "stream",
     "text": [
      "9\n"
     ]
    }
   ],
   "source": [
    "def biggest_odd(x):\n",
    "    largest_odd = -1\n",
    "\n",
    "    for digit in str(x):\n",
    "        if int(digit) % 2 != 0 and int(digit) > largest_odd:\n",
    "            largest_odd = int(digit)\n",
    "\n",
    "    return largest_odd\n",
    "\n",
    "print(biggest_odd(23569))"
   ]
  },
  {
   "cell_type": "code",
   "execution_count": 1,
   "metadata": {},
   "outputs": [
    {
     "name": "stdout",
     "output_type": "stream",
     "text": [
      "3\n"
     ]
    }
   ],
   "source": [
    "def count_dots(s):\n",
    "    counts=s.count('.')\n",
    "    return counts\n",
    "print(count_dots('h.e.l.p'))"
   ]
  },
  {
   "cell_type": "code",
   "execution_count": 2,
   "metadata": {},
   "outputs": [
    {
     "name": "stdout",
     "output_type": "stream",
     "text": [
      "True\n"
     ]
    }
   ],
   "source": [
    "def equal_string(x, y):\n",
    "    x= len(x) \n",
    "    y=len(y)\n",
    "    if x == y:\n",
    "        return True\n",
    "    else :\n",
    "        return False\n",
    "print(equal_string('love','evol'))"
   ]
  },
  {
   "cell_type": "code",
   "execution_count": 5,
   "metadata": {},
   "outputs": [
    {
     "ename": "UnboundLocalError",
     "evalue": "local variable 'C' referenced before assignment",
     "output_type": "error",
     "traceback": [
      "\u001b[0;31m---------------------------------------------------------------------------\u001b[0m",
      "\u001b[0;31mUnboundLocalError\u001b[0m                         Traceback (most recent call last)",
      "Cell \u001b[0;32mIn[5], line 6\u001b[0m\n\u001b[1;32m      4\u001b[0m     C\u001b[39m=\u001b[39mA\n\u001b[1;32m      5\u001b[0m     \u001b[39mreturn\u001b[39;00m B\n\u001b[0;32m----> 6\u001b[0m \u001b[39mprint\u001b[39m(swap_values(\u001b[39m12\u001b[39;49m,\u001b[39m13\u001b[39;49m))\n",
      "Cell \u001b[0;32mIn[5], line 3\u001b[0m, in \u001b[0;36mswap_values\u001b[0;34m(A, B)\u001b[0m\n\u001b[1;32m      1\u001b[0m \u001b[39mdef\u001b[39;00m \u001b[39mswap_values\u001b[39m(A, B):\n\u001b[1;32m      2\u001b[0m     A\u001b[39m=\u001b[39mB\n\u001b[0;32m----> 3\u001b[0m     B\u001b[39m=\u001b[39mC\n\u001b[1;32m      4\u001b[0m     C\u001b[39m=\u001b[39mA\n\u001b[1;32m      5\u001b[0m     \u001b[39mreturn\u001b[39;00m B\n",
      "\u001b[0;31mUnboundLocalError\u001b[0m: local variable 'C' referenced before assignment"
     ]
    }
   ],
   "source": [
    "def swap_values(A, B):\n",
    "    A=B\n",
    "    B=C\n",
    "    C=A\n",
    "    return B\n",
    "print(swap_values(                                                                 12,13))\n",
    "\n"
   ]
  },
  {
   "cell_type": "code",
   "execution_count": 6,
   "metadata": {},
   "outputs": [
    {
     "ename": "Forbidden",
     "evalue": "403 Forbidden\n453 - You currently have access to Twitter API v2 endpoints and limited v1.1 endpoints only. If you need access to this endpoint, you may need a different access level. You can learn more here: https://developer.twitter.com/en/docs/twitter-api/getting-started/about-twitter-api#v2-access-leve",
     "output_type": "error",
     "traceback": [
      "\u001b[0;31m---------------------------------------------------------------------------\u001b[0m",
      "\u001b[0;31mForbidden\u001b[0m                                 Traceback (most recent call last)",
      "Cell \u001b[0;32mIn[6], line 29\u001b[0m\n\u001b[1;32m     21\u001b[0m date_until \u001b[39m=\u001b[39m \u001b[39m\"\u001b[39m\u001b[39m2023-01-31\u001b[39m\u001b[39m\"\u001b[39m\n\u001b[1;32m     23\u001b[0m \u001b[39m# Scrape tweets\u001b[39;00m\n\u001b[1;32m     24\u001b[0m \u001b[39m#tweets = tweepy.Cursor(api.search, q=query, lang=\"en\", since=date_since, until=date_until).items()\u001b[39;00m\n\u001b[1;32m     25\u001b[0m \n\u001b[1;32m     26\u001b[0m \u001b[39m# Scrape tweets\u001b[39;00m\n\u001b[1;32m     27\u001b[0m \u001b[39m#tweets = tweepy.Cursor(api.search_tweets, q=query, lang=\"en\").items()\u001b[39;00m\n\u001b[0;32m---> 29\u001b[0m tweets \u001b[39m=\u001b[39m api\u001b[39m.\u001b[39;49mhome_timeline(count\u001b[39m=\u001b[39;49m\u001b[39m200\u001b[39;49m)  \u001b[39m# Adjust the count as per your requirements\u001b[39;00m\n\u001b[1;32m     31\u001b[0m \u001b[39m# Extract timestamps and count mentions\u001b[39;00m\n\u001b[1;32m     32\u001b[0m mentions \u001b[39m=\u001b[39m {}\n",
      "File \u001b[0;32m~/Library/Python/3.8/lib/python/site-packages/tweepy/api.py:33\u001b[0m, in \u001b[0;36mpagination.<locals>.decorator.<locals>.wrapper\u001b[0;34m(*args, **kwargs)\u001b[0m\n\u001b[1;32m     31\u001b[0m \u001b[39m@functools\u001b[39m\u001b[39m.\u001b[39mwraps(method)\n\u001b[1;32m     32\u001b[0m \u001b[39mdef\u001b[39;00m \u001b[39mwrapper\u001b[39m(\u001b[39m*\u001b[39margs, \u001b[39m*\u001b[39m\u001b[39m*\u001b[39mkwargs):\n\u001b[0;32m---> 33\u001b[0m     \u001b[39mreturn\u001b[39;00m method(\u001b[39m*\u001b[39;49margs, \u001b[39m*\u001b[39;49m\u001b[39m*\u001b[39;49mkwargs)\n",
      "File \u001b[0;32m~/Library/Python/3.8/lib/python/site-packages/tweepy/api.py:46\u001b[0m, in \u001b[0;36mpayload.<locals>.decorator.<locals>.wrapper\u001b[0;34m(*args, **kwargs)\u001b[0m\n\u001b[1;32m     44\u001b[0m kwargs[\u001b[39m'\u001b[39m\u001b[39mpayload_list\u001b[39m\u001b[39m'\u001b[39m] \u001b[39m=\u001b[39m payload_list\n\u001b[1;32m     45\u001b[0m kwargs[\u001b[39m'\u001b[39m\u001b[39mpayload_type\u001b[39m\u001b[39m'\u001b[39m] \u001b[39m=\u001b[39m payload_type\n\u001b[0;32m---> 46\u001b[0m \u001b[39mreturn\u001b[39;00m method(\u001b[39m*\u001b[39;49margs, \u001b[39m*\u001b[39;49m\u001b[39m*\u001b[39;49mkwargs)\n",
      "File \u001b[0;32m~/Library/Python/3.8/lib/python/site-packages/tweepy/api.py:331\u001b[0m, in \u001b[0;36mAPI.home_timeline\u001b[0;34m(self, **kwargs)\u001b[0m\n\u001b[1;32m    298\u001b[0m \u001b[39m@pagination\u001b[39m(mode\u001b[39m=\u001b[39m\u001b[39m'\u001b[39m\u001b[39mid\u001b[39m\u001b[39m'\u001b[39m)\n\u001b[1;32m    299\u001b[0m \u001b[39m@payload\u001b[39m(\u001b[39m'\u001b[39m\u001b[39mstatus\u001b[39m\u001b[39m'\u001b[39m, \u001b[39mlist\u001b[39m\u001b[39m=\u001b[39m\u001b[39mTrue\u001b[39;00m)\n\u001b[1;32m    300\u001b[0m \u001b[39mdef\u001b[39;00m \u001b[39mhome_timeline\u001b[39m(\u001b[39mself\u001b[39m, \u001b[39m*\u001b[39m\u001b[39m*\u001b[39mkwargs):\n\u001b[1;32m    301\u001b[0m \u001b[39m    \u001b[39m\u001b[39m\"\"\"home_timeline(*, count, since_id, max_id, trim_user, \\\u001b[39;00m\n\u001b[1;32m    302\u001b[0m \u001b[39m                     exclude_replies, include_entities)\u001b[39;00m\n\u001b[1;32m    303\u001b[0m \n\u001b[0;32m   (...)\u001b[0m\n\u001b[1;32m    329\u001b[0m \u001b[39m    https://developer.twitter.com/en/docs/twitter-api/v1/tweets/timelines/api-reference/get-statuses-home_timeline\u001b[39;00m\n\u001b[1;32m    330\u001b[0m \u001b[39m    \"\"\"\u001b[39;00m\n\u001b[0;32m--> 331\u001b[0m     \u001b[39mreturn\u001b[39;00m \u001b[39mself\u001b[39;49m\u001b[39m.\u001b[39;49mrequest(\n\u001b[1;32m    332\u001b[0m         \u001b[39m'\u001b[39;49m\u001b[39mGET\u001b[39;49m\u001b[39m'\u001b[39;49m, \u001b[39m'\u001b[39;49m\u001b[39mstatuses/home_timeline\u001b[39;49m\u001b[39m'\u001b[39;49m, endpoint_parameters\u001b[39m=\u001b[39;49m(\n\u001b[1;32m    333\u001b[0m             \u001b[39m'\u001b[39;49m\u001b[39mcount\u001b[39;49m\u001b[39m'\u001b[39;49m, \u001b[39m'\u001b[39;49m\u001b[39msince_id\u001b[39;49m\u001b[39m'\u001b[39;49m, \u001b[39m'\u001b[39;49m\u001b[39mmax_id\u001b[39;49m\u001b[39m'\u001b[39;49m, \u001b[39m'\u001b[39;49m\u001b[39mtrim_user\u001b[39;49m\u001b[39m'\u001b[39;49m, \u001b[39m'\u001b[39;49m\u001b[39mexclude_replies\u001b[39;49m\u001b[39m'\u001b[39;49m,\n\u001b[1;32m    334\u001b[0m             \u001b[39m'\u001b[39;49m\u001b[39minclude_entities\u001b[39;49m\u001b[39m'\u001b[39;49m\n\u001b[1;32m    335\u001b[0m         ), \u001b[39m*\u001b[39;49m\u001b[39m*\u001b[39;49mkwargs\n\u001b[1;32m    336\u001b[0m     )\n",
      "File \u001b[0;32m~/Library/Python/3.8/lib/python/site-packages/tweepy/api.py:271\u001b[0m, in \u001b[0;36mAPI.request\u001b[0;34m(self, method, endpoint, endpoint_parameters, params, headers, json_payload, parser, payload_list, payload_type, post_data, files, require_auth, return_cursors, upload_api, use_cache, **kwargs)\u001b[0m\n\u001b[1;32m    269\u001b[0m     \u001b[39mraise\u001b[39;00m Unauthorized(resp)\n\u001b[1;32m    270\u001b[0m \u001b[39mif\u001b[39;00m resp\u001b[39m.\u001b[39mstatus_code \u001b[39m==\u001b[39m \u001b[39m403\u001b[39m:\n\u001b[0;32m--> 271\u001b[0m     \u001b[39mraise\u001b[39;00m Forbidden(resp)\n\u001b[1;32m    272\u001b[0m \u001b[39mif\u001b[39;00m resp\u001b[39m.\u001b[39mstatus_code \u001b[39m==\u001b[39m \u001b[39m404\u001b[39m:\n\u001b[1;32m    273\u001b[0m     \u001b[39mraise\u001b[39;00m NotFound(resp)\n",
      "\u001b[0;31mForbidden\u001b[0m: 403 Forbidden\n453 - You currently have access to Twitter API v2 endpoints and limited v1.1 endpoints only. If you need access to this endpoint, you may need a different access level. You can learn more here: https://developer.twitter.com/en/docs/twitter-api/getting-started/about-twitter-api#v2-access-leve"
     ]
    }
   ],
   "source": [
    "import tweepy\n",
    "import csv\n",
    "import matplotlib.pyplot as plt\n",
    "\n",
    "# Twitter API credentials\n",
    "consumer_key = \"gRzAHirJ8HVRuCaQsg1QtVGnF\"\n",
    "consumer_secret = \"bhjUbbjZYhGTEwNSe4iSQOjlnDrYl1tTHGha31SNZTxe2DYcVT\"\n",
    "access_token = \"1485343579300114436-dWN3AfrvnCAtkDTdxrSsflVO4Toj7D\"\n",
    "access_token_secret = \"7ew4tqj2vCGBaByDMnFVjclcnyaFN194LQIKRncPE8pUH\"\n",
    "\n",
    "# Authenticate to Twitter API\n",
    "auth = tweepy.OAuthHandler(consumer_key, consumer_secret)\n",
    "auth.set_access_token(access_token, access_token_secret)\n",
    "\n",
    "# Create API object\n",
    "api = tweepy.API(auth)\n",
    "\n",
    "# Define search parameters\n",
    "query = \"Kenya\"\n",
    "date_since = \"2023-01-01\"\n",
    "date_until = \"2023-01-31\"\n",
    "\n",
    "# Scrape tweets\n",
    "#tweets = tweepy.Cursor(api.search, q=query, lang=\"en\", since=date_since, until=date_until).items()\n",
    "\n",
    "# Scrape tweets\n",
    "#tweets = tweepy.Cursor(api.search_tweets, q=query, lang=\"en\").items()\n",
    "\n",
    "tweets = api.home_timeline(count=200)  # Adjust the count as per your requirements\n",
    "\n",
    "# Extract timestamps and count mentions\n",
    "mentions = {}\n",
    "for tweet in tweets:\n",
    "    timestamp = tweet.created_at.date()\n",
    "    if date_since <= str(timestamp) <= date_until:\n",
    "        mentions[timestamp] = mentions.get(timestamp, 0) + 1\n",
    "\n",
    "\n",
    "csv_file=\"mentions01-31-jan-2023.csv\"\n",
    "with open(csv_file, \"w\", newline=\"\") as file:\n",
    "    writer = csv.writer(file)\n",
    "    writer.writerow([\"Date\", \"Mentions\"])\n",
    "    for timestamp, count in mentions.items():\n",
    "        writer.writerow([timestamp, count])\n",
    "\n",
    "\n",
    "print(f\" scraped data saved to {csv_file}.\")\n",
    "\n",
    "# Prepare data for line graph\n",
    "timestamps = sorted(mentions.keys())\n",
    "mention_counts = [mentions[timestamp] for timestamp in timestamps]\n",
    "\n",
    "# Create line graph\n",
    "plt.plot(timestamps, mention_counts)\n",
    "plt.xlabel(\"Date\")\n",
    "plt.ylabel(\"Number of Mentions\")\n",
    "plt.title(\"Kenya Mentions on Twitter (January 2023)\")\n",
    "plt.xticks(rotation=45)\n",
    "plt.show()\n"
   ]
  },
  {
   "cell_type": "code",
   "execution_count": 12,
   "metadata": {},
   "outputs": [
    {
     "name": "stderr",
     "output_type": "stream",
     "text": [
      "/var/folders/_m/s1lh0gk140d20ctk_ggxnjs80000gn/T/ipykernel_1679/2702272892.py:7: DeprecationWarning: executable_path has been deprecated, please pass in a Service object\n",
      "  driver = webdriver.Chrome('service=service')  # Replace with the path to your chromedriver executable\n"
     ]
    },
    {
     "ename": "AttributeError",
     "evalue": "'WebDriver' object has no attribute 'find_elements_by_xpath'",
     "output_type": "error",
     "traceback": [
      "\u001b[0;31m---------------------------------------------------------------------------\u001b[0m",
      "\u001b[0;31mAttributeError\u001b[0m                            Traceback (most recent call last)",
      "Cell \u001b[0;32mIn[12], line 24\u001b[0m\n\u001b[1;32m     21\u001b[0m     time\u001b[39m.\u001b[39msleep(\u001b[39m2\u001b[39m)\n\u001b[1;32m     23\u001b[0m \u001b[39m# Extract timestamps and count mentions\u001b[39;00m\n\u001b[0;32m---> 24\u001b[0m tweets \u001b[39m=\u001b[39m driver\u001b[39m.\u001b[39;49mfind_elements_by_xpath(\u001b[39m'\u001b[39m\u001b[39m//div[@data-testid=\u001b[39m\u001b[39m\"\u001b[39m\u001b[39mtweet\u001b[39m\u001b[39m\"\u001b[39m\u001b[39m]\u001b[39m\u001b[39m'\u001b[39m)\n\u001b[1;32m     25\u001b[0m mentions \u001b[39m=\u001b[39m {}\n\u001b[1;32m     26\u001b[0m \u001b[39mfor\u001b[39;00m tweet \u001b[39min\u001b[39;00m tweets:\n",
      "\u001b[0;31mAttributeError\u001b[0m: 'WebDriver' object has no attribute 'find_elements_by_xpath'"
     ]
    }
   ],
   "source": [
    "from selenium import webdriver\n",
    "import time\n",
    "import csv\n",
    "import matplotlib.pyplot as plt\n",
    "\n",
    "# Set up Selenium and Chrome WebDriver\n",
    "driver = webdriver.Chrome('service=service')  # Replace with the path to your chromedriver executable\n",
    "\n",
    "# Open Twitter and search for Kenya mentions\n",
    "search_query = \"Kenya\"\n",
    "date_since = \"2023-01-01\"\n",
    "date_until = \"2023-01-31\"\n",
    "\n",
    "twitter_url = f\"https://twitter.com/search?q={search_query}%20since%3A{date_since}%20until%3A{date_until}&src=typed_query\"\n",
    "driver.get(twitter_url)\n",
    "\n",
    "# Scroll down to load more tweets (adjust the number of scrolls as needed)\n",
    "num_scrolls = 3\n",
    "for _ in range(num_scrolls):\n",
    "    driver.execute_script(\"window.scrollTo(0, document.body.scrollHeight);\")\n",
    "    time.sleep(2)\n",
    "\n",
    "# Extract timestamps and count mentions\n",
    "tweets = driver.find_elements_by_xpath('//div[@data-testid=\"tweet\"]')\n",
    "mentions = {}\n",
    "for tweet in tweets:\n",
    "    timestamp = tweet.find_element_by_xpath('.//time').get_attribute(\"datetime\")\n",
    "    timestamp = timestamp[:10]  # Extract only the date part\n",
    "    mentions[timestamp] = mentions.get(timestamp, 0) + 1\n",
    "\n",
    "# Save data to a CSV file\n",
    "csv_file = \"kenya_mentions.csv\"\n",
    "with open(csv_file, \"w\", newline=\"\") as file:\n",
    "    writer = csv.writer(file)\n",
    "    writer.writerow([\"Date\", \"Mentions\"])\n",
    "    for timestamp, count in mentions.items():\n",
    "        writer.writerow([timestamp, count])\n",
    "\n",
    "print(f\"Scraped data saved to {csv_file}.\")\n",
    "\n",
    "# Close the Selenium driver\n",
    "driver.quit()\n",
    "\n",
    "# Prepare data for line graph\n",
    "timestamps = sorted(mentions.keys())\n",
    "mention_counts = [mentions[timestamp] for timestamp in timestamps]\n",
    "\n",
    "# Create line graph\n",
    "plt.plot(timestamps, mention_counts)\n",
    "plt.xlabel(\"Date\")\n",
    "plt.ylabel(\"Number of Mentions\")\n",
    "plt.title(\"Kenya Mentions on Twitter (January 2023)\")\n",
    "plt.xticks(rotation=45)\n",
    "plt.show()\n"
   ]
  },
  {
   "cell_type": "code",
   "execution_count": 18,
   "metadata": {},
   "outputs": [
    {
     "name": "stderr",
     "output_type": "stream",
     "text": [
      "/var/folders/_m/s1lh0gk140d20ctk_ggxnjs80000gn/T/ipykernel_1679/3869837920.py:8: DeprecationWarning: executable_path has been deprecated, please pass in a Service object\n",
      "  driver = webdriver.Chrome('path_to_chromedriver')  # Replace with the path to your chromedriver executable\n"
     ]
    },
    {
     "data": {
      "image/png": "[encoded data removed]",
      "text/plain": [
       "<Figure size 640x480 with 1 Axes>"
      ]
     },
     "metadata": {},
     "output_type": "display_data"
    },
    {
     "name": "stdout",
     "output_type": "stream",
     "text": [
      "Scraping completed. Data saved to kenya_mentions.csv.\n"
     ]
    }
   ],
   "source": [
    "from selenium import webdriver\n",
    "from selenium.webdriver.common.by import By\n",
    "import time\n",
    "import csv\n",
    "import matplotlib.pyplot as plt\n",
    "\n",
    "# Set up Selenium and Chrome WebDriver\n",
    "driver = webdriver.Chrome('path_to_chromedriver')  # Replace with the path to your chromedriver executable\n",
    "\n",
    "# Open Twitter and search for Kenya mentions\n",
    "search_query = \"Kenya\"\n",
    "date_since = \"2023-01-01\"\n",
    "date_until = \"2023-01-31\"\n",
    "\n",
    "twitter_url = f\"https://twitter.com/search?q={search_query}%20since%3A{date_since}%20until%3A{date_until}&src=typed_query\"\n",
    "driver.get(twitter_url)\n",
    "\n",
    "# Scroll down to load more tweets (adjust the number of scrolls as needed)\n",
    "num_scrolls = 3\n",
    "for _ in range(num_scrolls):\n",
    "    driver.execute_script(\"window.scrollTo(0, document.body.scrollHeight);\")\n",
    "    time.sleep(2)\n",
    "\n",
    "# Extract timestamps and count mentions\n",
    "tweets = driver.find_elements(By.CSS_SELECTOR, 'div[data-testid=\"tweet\"]')\n",
    "mentions = {}\n",
    "for tweet in tweets:\n",
    "    timestamp = tweet.find_element(By.CSS_SELECTOR, 'time').get_attribute(\"datetime\")\n",
    "    timestamp = timestamp[:10]  # Extract only the date part\n",
    "    mentions[timestamp] = mentions.get(timestamp, 0) + 1\n",
    "    print(timestamp, mentions[timestamp])\n",
    "\n",
    "# Close the Selenium driver\n",
    "driver.quit()\n",
    "\n",
    "# Prepare data for line graph\n",
    "timestamps = sorted(mentions.keys())\n",
    "mention_counts = [mentions[timestamp] for timestamp in timestamps]\n",
    "\n",
    "# Create line graph\n",
    "plt.plot(timestamps, mention_counts)\n",
    "plt.xlabel(\"Date\")\n",
    "plt.ylabel(\"Number of Mentions\")\n",
    "plt.title(\"Kenya Mentions on Twitter (January 2023)\")\n",
    "plt.xticks(rotation=45)\n",
    "plt.show()\n",
    "\n",
    "# Save data to CSV file\n",
    "csv_file = \"kenya_mentions.csv\"\n",
    "with open(csv_file, \"w\", newline=\"\", encoding=\"utf-8\") as file:\n",
    "    writer = csv.writer(file)\n",
    "    writer.writerow([\"Date\", \"Mentions\"])\n",
    "    for timestamp, count in mentions.items():\n",
    "        writer.writerow([timestamp, count])\n",
    "        print(timestamp, count)\n",
    "\n",
    "print(f\"Scraping completed. Data saved to {csv_file}.\")\n"
   ]
  },
  {
   "cell_type": "code",
   "execution_count": 21,
   "metadata": {},
   "outputs": [
    {
     "name": "stderr",
     "output_type": "stream",
     "text": [
      "/var/folders/_m/s1lh0gk140d20ctk_ggxnjs80000gn/T/ipykernel_1679/4013252616.py:8: DeprecationWarning: executable_path has been deprecated, please pass in a Service object\n",
      "  driver = webdriver.Chrome('path_to_chromedriver')  # Replace with the path to your chromedriver executable\n"
     ]
    },
    {
     "data": {
      "image/png": "[encoded data removed]",
      "text/plain": [
       "<Figure size 640x480 with 1 Axes>"
      ]
     },
     "metadata": {},
     "output_type": "display_data"
    },
    {
     "ename": "NameError",
     "evalue": "name 'timestamp' is not defined",
     "output_type": "error",
     "traceback": [
      "\u001b[0;31m---------------------------------------------------------------------------\u001b[0m",
      "\u001b[0;31mNameError\u001b[0m                                 Traceback (most recent call last)",
      "Cell \u001b[0;32mIn[21], line 56\u001b[0m\n\u001b[1;32m     54\u001b[0m     \u001b[39mfor\u001b[39;00m timestamp, count \u001b[39min\u001b[39;00m mentions\u001b[39m.\u001b[39mitems():\n\u001b[1;32m     55\u001b[0m         writer\u001b[39m.\u001b[39mwriterow([timestamp, count])\n\u001b[0;32m---> 56\u001b[0m     \u001b[39mprint\u001b[39m(\u001b[39m\"\u001b[39m\u001b[39mWriting to CSV:\u001b[39m\u001b[39m\"\u001b[39m, timestamp, count)\n\u001b[1;32m     59\u001b[0m \u001b[39mprint\u001b[39m(\u001b[39mf\u001b[39m\u001b[39m\"\u001b[39m\u001b[39mScraping completed. Data saved to \u001b[39m\u001b[39m{\u001b[39;00mcsv_file\u001b[39m}\u001b[39;00m\u001b[39m.\u001b[39m\u001b[39m\"\u001b[39m)\n\u001b[1;32m     60\u001b[0m \u001b[39mprint\u001b[39m(\u001b[39m\"\u001b[39m\u001b[39mNumber of tweets:\u001b[39m\u001b[39m\"\u001b[39m, \u001b[39mlen\u001b[39m(tweets))\n",
      "\u001b[0;31mNameError\u001b[0m: name 'timestamp' is not defined"
     ]
    }
   ],
   "source": [
    "from selenium import webdriver\n",
    "from selenium.webdriver.common.by import By\n",
    "import time\n",
    "import csv\n",
    "import matplotlib.pyplot as plt\n",
    "\n",
    "# Set up Selenium and Chrome WebDriver\n",
    "driver = webdriver.Chrome('path_to_chromedriver')  # Replace with the path to your chromedriver executable\n",
    "\n",
    "# Open Twitter and search for Kenya mentions\n",
    "search_query = \"Kenya\"\n",
    "date_since = \"2023-01-01\"\n",
    "date_until = \"2023-01-31\"\n",
    "\n",
    "twitter_url = f\"https://twitter.com/search?q={search_query}%20since%3A{date_since}%20until%3A{date_until}&src=typed_query\"\n",
    "driver.get(twitter_url)\n",
    "\n",
    "# Scroll down to load more tweets (adjust the number of scrolls as needed)\n",
    "num_scrolls = 5  # Increase the number of scrolls to load more tweets\n",
    "for _ in range(num_scrolls):\n",
    "    driver.execute_script(\"window.scrollTo(0, document.body.scrollHeight);\")\n",
    "    time.sleep(2)\n",
    "\n",
    "# Extract timestamps and count mentions\n",
    "tweets = driver.find_elements(By.CSS_SELECTOR, 'div[data-testid=\"tweet\"]')\n",
    "mentions = {}\n",
    "for tweet in tweets:\n",
    "    timestamp = tweet.find_element(By.CSS_SELECTOR, 'time').get_attribute(\"datetime\")\n",
    "    timestamp = timestamp[:10]  # Extract only the date part\n",
    "    print(\"Timestamp:\", timestamp)\n",
    "    mentions[timestamp] = mentions.get(timestamp, 0) + 1\n",
    "\n",
    "\n",
    "# Close the Selenium driver\n",
    "driver.quit()\n",
    "\n",
    "# Prepare data for line graph\n",
    "timestamps = sorted(mentions.keys())\n",
    "mention_counts = [mentions[timestamp] for timestamp in timestamps]\n",
    "\n",
    "# Create line graph\n",
    "plt.plot(timestamps, mention_counts)\n",
    "plt.xlabel(\"Date\")\n",
    "plt.ylabel(\"Number of Mentions\")\n",
    "plt.title(\"Kenya Mentions on Twitter (January 2023)\")\n",
    "plt.xticks(rotation=45)\n",
    "plt.show()\n",
    "\n",
    "# Save data to CSV file\n",
    "csv_file = \"kenya_mentions.csv\"\n",
    "with open(csv_file, \"w\", newline=\"\", encoding=\"utf-8\") as file:\n",
    "    writer = csv.writer(file)\n",
    "    writer.writerow([\"Date\", \"Mentions\"])\n",
    "    for timestamp, count in mentions.items():\n",
    "        writer.writerow([timestamp, count])\n",
    "    print(\"Writing to CSV:\", timestamp, count)\n",
    "\n",
    "\n",
    "print(f\"Scraping completed. Data saved to {csv_file}.\")\n",
    "print(\"Number of tweets:\", len(tweets))\n",
    "\n"
   ]
  },
  {
   "cell_type": "code",
   "execution_count": 22,
   "metadata": {},
   "outputs": [
    {
     "name": "stderr",
     "output_type": "stream",
     "text": [
      "/var/folders/_m/s1lh0gk140d20ctk_ggxnjs80000gn/T/ipykernel_1679/2694235028.py:7: DeprecationWarning: executable_path has been deprecated, please pass in a Service object\n",
      "  driver = webdriver.Chrome('path_to_chromedriver')  # Replace with the path to your chromedriver executable\n"
     ]
    },
    {
     "name": "stdout",
     "output_type": "stream",
     "text": [
      "Scraping completed. Data saved to kenya_mentions.csv.\n"
     ]
    }
   ],
   "source": [
    "from selenium import webdriver\n",
    "from selenium.webdriver.common.by import By\n",
    "import time\n",
    "import csv\n",
    "\n",
    "# Set up Selenium and Chrome WebDriver\n",
    "driver = webdriver.Chrome('path_to_chromedriver')  # Replace with the path to your chromedriver executable\n",
    "\n",
    "# Open Twitter and search for Kenya mentions\n",
    "search_query = \"Kenya\"\n",
    "date_since = \"2023-01-01\"\n",
    "date_until = \"2023-01-31\"\n",
    "\n",
    "twitter_url = f\"https://twitter.com/search?q={search_query}%20since%3A{date_since}%20until%3A{date_until}&src=typed_query\"\n",
    "driver.get(twitter_url)\n",
    "\n",
    "# Scroll down to load more tweets (adjust the number of scrolls as needed)\n",
    "num_scrolls = 3\n",
    "for _ in range(num_scrolls):\n",
    "    driver.execute_script(\"window.scrollTo(0, document.body.scrollHeight);\")\n",
    "    time.sleep(2)\n",
    "\n",
    "# Extract timestamps and count mentions\n",
    "tweets = driver.find_elements(By.CSS_SELECTOR, 'div[data-testid=\"tweet\"]')\n",
    "mentions = {}\n",
    "for tweet in tweets:\n",
    "    timestamp = tweet.find_element(By.CSS_SELECTOR, 'time').get_attribute(\"datetime\")\n",
    "    timestamp = timestamp[:10]  # Extract only the date part\n",
    "    mentions[timestamp] = mentions.get(timestamp, 0) + 1\n",
    "\n",
    "# Close the Selenium driver\n",
    "driver.quit()\n",
    "\n",
    "# Prepare data for CSV file\n",
    "timestamps = sorted(mentions.keys())\n",
    "mention_counts = [mentions[timestamp] for timestamp in timestamps]\n",
    "\n",
    "# Save data to a CSV file\n",
    "csv_file = \"kenya_mentions.csv\"\n",
    "with open(csv_file, \"w\", newline=\"\") as file:\n",
    "    writer = csv.writer(file)\n",
    "    writer.writerow([\"Date\", \"Mentions\"])\n",
    "    for timestamp, count in mentions.items():\n",
    "        writer.writerow([timestamp, count])\n",
    "        print(\"Writing to CSV:\", timestamp, count)\n",
    "\n",
    "print(f\"Scraping completed. Data saved to {csv_file}.\")\n"
   ]
  }
 ],
 "metadata": {
  "kernelspec": {
   "display_name": "Python 3",
   "language": "python",
   "name": "python3"
  },
  "language_info": {
   "codemirror_mode": {
    "name": "ipython",
    "version": 3
   },
   "file_extension": ".py",
   "mimetype": "text/x-python",
   "name": "python",
   "nbconvert_exporter": "python",
   "pygments_lexer": "ipython3",
   "version": "3.8.2"
  },
  "orig_nbformat": 4
 },
 "nbformat": 4,
 "nbformat_minor": 2
}
